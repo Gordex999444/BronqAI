{
  "nbformat": 4,
  "nbformat_minor": 0,
  "metadata": {
    "colab": {
      "provenance": [],
      "authorship_tag": "ABX9TyPaxXeW7p8xPcoEu6X9fRxD",
      "include_colab_link": true
    },
    "kernelspec": {
      "name": "python3",
      "display_name": "Python 3"
    },
    "language_info": {
      "name": "python"
    }
  },
  "cells": [
    {
      "cell_type": "markdown",
      "metadata": {
        "id": "view-in-github",
        "colab_type": "text"
      },
      "source": [
        "<a href=\"https://colab.research.google.com/github/Gordex999444/BronqAI/blob/main/Untitled2.ipynb\" target=\"_parent\"><img src=\"https://colab.research.google.com/assets/colab-badge.svg\" alt=\"Open In Colab\"/></a>"
      ]
    },
    {
      "cell_type": "code",
      "execution_count": 1,
      "metadata": {
        "id": "ShZCP91npnJj"
      },
      "outputs": [],
      "source": [
        "import google.generativeai as genai\n",
        "from google.colab import userdata\n",
        "api_key = userdata.get (secret_key)\n",
        "genai.configure(api_key=api_key)"
      ]
    },
    {
      "cell_type": "code",
      "source": [
        "class ProChat:\n",
        "    def _init_(self, name, description):\n",
        "        self.name = name\n",
        "        self.description = description\n",
        "    def welcome_message(self):\n",
        "        return f\"Bem-vindo à {self.name}! Somos uma plataforma dedicada ao ensino sobre bronquiectasia, uma doença pulmonar pouco conhecida. .\\n\"\n",
        ""
      ],
      "metadata": {
        "id": "4EsceEUEpwg6"
      },
      "execution_count": 21,
      "outputs": []
    },
    {
      "cell_type": "code",
      "source": [
        "# Ajudando o chat a ter um conexto\n",
        "pro_chat =('você deve ajudar as pessoas a penas a tirar dúvida sobre a doença Bronquiectasia')\n",
        "pro_chat =('suas resposta deve ser precisa e um pouco descontraída para a pessoa aprender de uma forma mais tranquila')\n",
        "\n"
      ],
      "metadata": {
        "id": "FZ5Q-eTVrXU9"
      },
      "execution_count": 36,
      "outputs": []
    },
    {
      "cell_type": "code",
      "source": [
        "# Solicitando o nome do usuário e a dúvida que o usuário veio tirar apenas na primeira vez\n",
        "user_name = input(\"Olá! Qual é o seu nome?\\n\")\n",
        "reason = input(\"Qual é a dúvida que você veio tirar?\\n\")\n",
        "print(f\"\\nEntendido, {user_name}. Estamos aqui para ajudá-lo(a) com sua dúvida sobre {reason}.\\n\")"
      ],
      "metadata": {
        "colab": {
          "base_uri": "https://localhost:8080/"
        },
        "id": "yi4XTYHjuDX6",
        "outputId": "0a2ee2f2-0559-4dea-8613-9ac5a6145f0a"
      },
      "execution_count": 24,
      "outputs": [
        {
          "output_type": "stream",
          "name": "stdout",
          "text": [
            "Olá! Qual é o seu nome?\n",
            "\n",
            "Qual é a dúvida que você veio tirar?\n",
            "\n",
            "\n",
            "Entendido, . Estamos aqui para ajudá-lo(a) com sua dúvida sobre .\n",
            "\n"
          ]
        }
      ]
    },
    {
      "cell_type": "code",
      "source": [
        "#configurções do modelo 'candidate_count'-quantidade de respostas e  'temperature' - nível de \"criatividade\" do modelo\n",
        "generation_config = {\n",
        "    'candidate_count' : 1,\n",
        "    'temperature' : 0,\n",
        "}"
      ],
      "metadata": {
        "id": "l9nmac8RvFZq"
      },
      "execution_count": 26,
      "outputs": []
    },
    {
      "cell_type": "code",
      "source": [
        "#segurança\n",
        "safety_settings ={\n",
        "    #ABUSO\n",
        "    'HARASSMENT' : 'BLOCK_LOW_AND_ABOVE',\n",
        "    #ÓDIO\n",
        "    'HATE' : 'BLOCK_LOW_AND_ABOVE',\n",
        "    # CONTEÚDO SEXUAL EXPLÍCITO\n",
        "    'SEXUAL' : 'BLOCK_LOW_AND_ABOVE',\n",
        "    #CONTEÚDO PERGIGOSO\n",
        "    'DANGEROUS' : 'BLOCK_LOW_AND_ABOVE',\n",
        "}"
      ],
      "metadata": {
        "id": "CASDbcjtvGJR"
      },
      "execution_count": 27,
      "outputs": []
    },
    {
      "cell_type": "code",
      "source": [
        "model = genai.GenerativeModel(model_name=\"gemini-1.0-pro\", generation_config=generation_config,\n",
        "                             safety_settings=safety_settings)\n"
      ],
      "metadata": {
        "id": "F0e7XEouvI7S"
      },
      "execution_count": 28,
      "outputs": []
    },
    {
      "cell_type": "code",
      "source": [
        "chat = model.start_chat(history=[f\"Olá, {user_name}! Como posso te ajudar hoje com sua dúvida sobre {reason}?\"])\n"
      ],
      "metadata": {
        "id": "xvNAP9k4vRM5"
      },
      "execution_count": 29,
      "outputs": []
    },
    {
      "cell_type": "code",
      "source": [
        "prompt = input('Esperando pergunta:')\n",
        "\n",
        "#while significa enquanto\n",
        "while prompt != 'fim':\n",
        "  #send message:mandar mensagem\n",
        "  #só coloca chat, pois model.start_chat(history=[]) já está embutido nessa variável\n",
        " response = chat.send_message(prompt)\n",
        " #usar vírgula para separar as ações\n",
        " print('Resposta:', response.text, '\\n')\n",
        "#tem que repetir o comando de prompt por que se não fica em um \"looping infinito\" a resposta vai ser mandada sem parar\n",
        " prompt = input('Esperando pergunta: ')"
      ],
      "metadata": {
        "id": "Nfg8KA_M-NrJ"
      },
      "execution_count": null,
      "outputs": []
    },
    {
      "cell_type": "code",
      "source": [
        "   # Formatando a saída para o terminal\n",
        "    for i, message in enumerate(chat.history):\n",
        "        if i % 2 == 0:  # Mensagens do usuário\n",
        "            print(f\"> {message.parts[0].text}\")\n",
        "        else:  # Respostas do modelo\n",
        "            print(f\"{message.parts[0].text}\\n\")\n",
        "\n",
        "    print('-------------------------------------------')\n",
        ""
      ],
      "metadata": {
        "id": "yP2OFueBw5_T"
      },
      "execution_count": null,
      "outputs": []
    }
  ]
}